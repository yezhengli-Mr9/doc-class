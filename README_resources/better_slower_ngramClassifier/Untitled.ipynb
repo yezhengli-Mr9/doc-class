{
 "cells": [
  {
   "cell_type": "code",
   "execution_count": 1,
   "metadata": {},
   "outputs": [],
   "source": [
    "import csv\n",
    "import matplotlib.pyplot as plt\n",
    "import matplotlib.ticker as ticker\n",
    "import numpy as np\n",
    "import time"
   ]
  },
  {
   "cell_type": "code",
   "execution_count": 2,
   "metadata": {},
   "outputs": [
    {
     "name": "stdout",
     "output_type": "stream",
     "text": [
      "('DELETION OF INTEREST', 465)\n",
      "('RETURNED CHECK', 403)\n",
      "('BILL', 185)\n"
     ]
    }
   ],
   "source": [
    "T0 = time.time()\n",
    "LineReader = csv.reader(open('shuffled-full-set-hashed.csv'), delimiter=',', quotechar='|')\n",
    "row_num = 0\n",
    "# for row in LineReader:\n",
    "#     if row_num> 100: continue\n",
    "#     print(\"row\",row[0], len(row[1].split()) )\n",
    "# #     print(\"---------------------\")\n",
    "#     row_num+= 1\n",
    "Rows = [(row[0],row[1].split()) for row in LineReader]\n",
    "for i in range(3): print(Rows[i][0],len(Rows[i][1]))\n",
    "# print(\"Rows[0]\",Rows[0][:5])"
   ]
  },
  {
   "cell_type": "code",
   "execution_count": 3,
   "metadata": {},
   "outputs": [],
   "source": [
    "num = 40000\n",
    "with open(\"row\"+str(num)+\".csv\", 'w') as fd:\n",
    "    spamwriter = csv.writer(fd,delimiter=',', quotechar='|')\n",
    "    for row in Rows[:num]:\n",
    "        spamwriter.writerow([row[0],\" \".join(row[1])])  "
   ]
  },
  {
   "cell_type": "code",
   "execution_count": 4,
   "metadata": {},
   "outputs": [
    {
     "name": "stdout",
     "output_type": "stream",
     "text": [
      "('Elapsed time', 8.29665994644165)\n"
     ]
    }
   ],
   "source": [
    "print(\"Elapsed time\", time.time() - T0)\n",
    "# print(\"Rows[0]\",Rows[0])"
   ]
  },
  {
   "cell_type": "code",
   "execution_count": 5,
   "metadata": {},
   "outputs": [
    {
     "name": "stdout",
     "output_type": "stream",
     "text": [
      "Counter({'BILL': 18968, 'POLICY CHANGE': 10627, 'CANCELLATION NOTICE': 9731, 'BINDER': 8973, 'DELETION OF INTEREST': 4826, 'REINSTATEMENT NOTICE': 4368, 'DECLARATION': 968, 'CHANGE ENDORSEMENT': 889, 'RETURNED CHECK': 749, 'EXPIRATION NOTICE': 734, 'NON-RENEWAL NOTICE': 624, 'BILL BINDER': 289, 'INTENT TO CANCEL NOTICE': 229, 'APPLICATION': 229})\n"
     ]
    }
   ],
   "source": [
    "from collections import Counter\n",
    "MyCounter = Counter([row[0] for row in Rows])\n",
    "print(MyCounter)"
   ]
  },
  {
   "cell_type": "code",
   "execution_count": 6,
   "metadata": {},
   "outputs": [
    {
     "name": "stdout",
     "output_type": "stream",
     "text": [
      "(1037934, 20)\n"
     ]
    }
   ],
   "source": [
    "# N gram models\n",
    "Vocabulary = set([])\n",
    "num = 0\n",
    "for row in Rows:\n",
    "    Vocabulary.update(row[1])\n",
    "    num += len(row[1])\n",
    "num_dev = int(len(Rows)/10)\n",
    "#Resouvoir sampling\n",
    "# class Solution(object):\n",
    "#     def __init__(self, rows):\n",
    "#         self.__rows = rows \n",
    "#     def pick(self, k):\n",
    "#         \"\"\"\n",
    "#         :type target: int\n",
    "#         \"\"\"\n",
    "#         reservoir = -1\n",
    "#         n = 0\n",
    "#         for i in xrange(len(self.__nums)):\n",
    "#             if self.__nums[i] == target: \n",
    "#                 if randint(1, n+1) == 1: reservoir = i  # succinct\n",
    "#                 n += 1 # I do not think this is what it needs -- this is mathematics \"if randint(1, n+1) == 1: reservoir = i\" does not work\n",
    "#         return reservoir\n",
    "train_rows = Rows[:-num_dev]\n",
    "dev_rows = Rows[-num_dev:]\n",
    "print(len(Vocabulary), num/ len(Vocabulary))"
   ]
  },
  {
   "cell_type": "code",
   "execution_count": 7,
   "metadata": {},
   "outputs": [
    {
     "name": "stdout",
     "output_type": "stream",
     "text": [
      "(55984, 6220, 62204)\n"
     ]
    }
   ],
   "source": [
    "from collections import defaultdict\n",
    "Rows_by_label_dict = defaultdict(list)\n",
    "print(len(train_rows),len(dev_rows),len(Rows))\n",
    "for row in train_rows: \n",
    "    Rows_by_label_dict[row[0]].append(row[1])\n",
    "# print(\"Rows_by_label_dict\",Rows_by_label_dict[\"BILL\"])"
   ]
  },
  {
   "cell_type": "code",
   "execution_count": 8,
   "metadata": {},
   "outputs": [],
   "source": [
    "def train_words_lm(train_rows_certain_type, Vocabulary, order=3, add_k=1):\n",
    "    lm = defaultdict(Counter)\n",
    "    for row in train_rows_certain_type:\n",
    "        pad = [\"~\"] * order\n",
    "        data = pad + row\n",
    "        for i in range(len(data)-order):\n",
    "            history, char = tuple(data[i:i+order]), data[i+order]\n",
    "            lm[history][char]+=1\n",
    "#         del history\n",
    "#         del char\n",
    "#         del i\n",
    "    def normalize(counter): # input is a dictionary\n",
    "        s = float(sum(counter.values())) + add_k *len(counter)\n",
    "        return [(c,(cnt+add_k)/s) for c,cnt in counter.items()]\n",
    "    outlm = {hist:normalize(chars) for hist, chars in lm.items()}\n",
    "    return outlm\n",
    "\n",
    "def perplexity(lm, row):\n",
    "    order = len(list(lm.keys())[0]) #yezheng: I think it should not be an argument\n",
    "    pad = [\"~\"] * order\n",
    "    data = pad + row \n",
    "    logPP = 0\n",
    "    for i in range(len(data)-order):\n",
    "        history, char = tuple(data[i:(i+order)]), data[i+order] \n",
    "        if history not in lm: logPP -= np.log2(len(lm))\n",
    "        else:\n",
    "            dict_temp = dict(lm[history])\n",
    "            if char not in dict_temp: logPP -= np.log2(1.0/len(lm))\n",
    "            else: logPP -= np.log2(dict_temp[char])\n",
    "    return logPP"
   ]
  },
  {
   "cell_type": "code",
   "execution_count": 9,
   "metadata": {},
   "outputs": [
    {
     "name": "stdout",
     "output_type": "stream",
     "text": [
      "('Elapsed time', 58.65829014778137, '(', 'POLICY CHANGE', ')')\n",
      "('Elapsed time', 80.41955518722534, '(', 'CANCELLATION NOTICE', ')')\n",
      "('Elapsed time', 81.07855701446533, '(', 'BILL BINDER', ')')\n",
      "('Elapsed time', 81.55914497375488, '(', 'CHANGE ENDORSEMENT', ')')\n",
      "('Elapsed time', 81.8783130645752, '(', 'INTENT TO CANCEL NOTICE', ')')\n",
      "('Elapsed time', 256.7435691356659, '(', 'BILL', ')')\n",
      "('Elapsed time', 261.0466661453247, '(', 'REINSTATEMENT NOTICE', ')')\n",
      "('Elapsed time', 262.08764910697937, '(', 'APPLICATION', ')')\n",
      "('Elapsed time', 440.8315341472626, '(', 'BINDER', ')')\n",
      "('Elapsed time', 442.97597002983093, '(', 'RETURNED CHECK', ')')\n",
      "('Elapsed time', 444.6209571361542, '(', 'EXPIRATION NOTICE', ')')\n",
      "('Elapsed time', 448.02473616600037, '(', 'DECLARATION', ')')\n",
      "('Elapsed time', 448.9312551021576, '(', 'NON-RENEWAL NOTICE', ')')\n",
      "('Elapsed time', 452.2891321182251, '(', 'DELETION OF INTEREST', ')')\n"
     ]
    }
   ],
   "source": [
    "T0 = time.time()\n",
    "lms_dict = {}\n",
    "for label in Rows_by_label_dict.keys(): \n",
    "    lms_dict[label] = train_words_lm(Rows_by_label_dict[label], Vocabulary)\n",
    "    print(\"Elapsed time\", time.time() - T0,\"(\",label,\")\")"
   ]
  },
  {
   "cell_type": "code",
   "execution_count": 10,
   "metadata": {},
   "outputs": [
    {
     "name": "stdout",
     "output_type": "stream",
     "text": [
      "('Elapsed time', 2713.1541378498077, '(', 1000, ')')\n",
      "('Elapsed time', 5176.833751916885, '(', 2000, ')')\n",
      "('Elapsed time', 7562.0552179813385, '(', 3000, ')')\n",
      "('Elapsed time', 9884.043408870697, '(', 4000, ')')\n",
      "('Elapsed time', 15948.576964855194, '(', 5000, ')')\n",
      "('Elapsed time', 18425.91857600212, '(', 6000, ')')\n"
     ]
    }
   ],
   "source": [
    "T0 = time.time()\n",
    "import operator\n",
    "i =0\n",
    "label_true = []\n",
    "label_pred = []\n",
    "for row in dev_rows:\n",
    "    i+=1\n",
    "#     print(i, row[0],len(row[1]))\n",
    "    label_true.append(row[0])\n",
    "    PP_return_dict = dict([(label, perplexity(lms_dict[label], row[1])) for label in Rows_by_label_dict.keys()])\n",
    "#     print(i,PP_return_dict)\n",
    "    label_pred.append(max(PP_return_dict.items(), key=operator.itemgetter(1))[0])\n",
    "    if 0 == i% 1000: print(\"Elapsed time\", time.time() - T0,\"(\",i,\")\")"
   ]
  },
  {
   "cell_type": "code",
   "execution_count": 11,
   "metadata": {},
   "outputs": [],
   "source": [
    "# confusion matrix\n",
    "import numpy as np\n",
    "n_categories= len(Rows_by_label_dict.keys())\n",
    "labelToIdx = dict( (l,i) for i,l in enumerate(Rows_by_label_dict.keys()))\n",
    "confusion = np.zeros((n_categories, n_categories),dtype = np.float64)\n",
    "for i in range(len(dev_rows)):\n",
    "    confusion[ labelToIdx[label_true[i]] ][labelToIdx[label_pred[i]]] += 1\n",
    "\n",
    "for i in range(n_categories):\n",
    "    confusion[i] = confusion[i] / confusion[i].sum()"
   ]
  },
  {
   "cell_type": "code",
   "execution_count": 12,
   "metadata": {},
   "outputs": [
    {
     "name": "stdout",
     "output_type": "stream",
     "text": [
      "[[5.67772512e-01 6.63507109e-03 9.47867299e-03 7.39336493e-02\n",
      "  2.38862559e-01 5.02369668e-02 4.73933649e-03 3.79146919e-03\n",
      "  1.89573460e-02 2.84360190e-03 1.89573460e-03 1.13744076e-02\n",
      "  2.84360190e-03 6.63507109e-03]\n",
      " [9.21187308e-03 7.70726714e-01 0.00000000e+00 2.04708291e-03\n",
      "  5.11770727e-02 9.00716479e-02 1.94472876e-02 0.00000000e+00\n",
      "  2.04708291e-03 0.00000000e+00 1.02354145e-03 2.04708291e-03\n",
      "  1.33060389e-02 3.88945752e-02]\n",
      " [0.00000000e+00 0.00000000e+00 4.76190476e-01 0.00000000e+00\n",
      "  2.38095238e-01 2.85714286e-01 0.00000000e+00 0.00000000e+00\n",
      "  0.00000000e+00 0.00000000e+00 0.00000000e+00 0.00000000e+00\n",
      "  0.00000000e+00 0.00000000e+00]\n",
      " [1.64705882e-01 0.00000000e+00 0.00000000e+00 7.29411765e-01\n",
      "  8.23529412e-02 1.17647059e-02 0.00000000e+00 0.00000000e+00\n",
      "  0.00000000e+00 0.00000000e+00 1.17647059e-02 0.00000000e+00\n",
      "  0.00000000e+00 0.00000000e+00]\n",
      " [3.33333333e-02 6.66666667e-02 0.00000000e+00 0.00000000e+00\n",
      "  6.00000000e-01 1.66666667e-01 3.33333333e-02 0.00000000e+00\n",
      "  0.00000000e+00 0.00000000e+00 3.33333333e-02 0.00000000e+00\n",
      "  0.00000000e+00 6.66666667e-02]\n",
      " [7.89058390e-03 3.10362967e-02 8.41662283e-03 2.63019463e-03\n",
      "  7.25933719e-02 8.61651762e-01 2.10415571e-03 0.00000000e+00\n",
      "  4.20831142e-03 5.26038927e-04 1.05207785e-03 4.20831142e-03\n",
      "  2.10415571e-03 1.57811678e-03]\n",
      " [1.18203310e-02 9.92907801e-02 0.00000000e+00 1.18203310e-02\n",
      "  3.78250591e-02 2.36406619e-02 7.99054374e-01 0.00000000e+00\n",
      "  0.00000000e+00 0.00000000e+00 0.00000000e+00 0.00000000e+00\n",
      "  1.18203310e-02 4.72813239e-03]\n",
      " [1.00000000e-01 0.00000000e+00 0.00000000e+00 0.00000000e+00\n",
      "  5.00000000e-01 0.00000000e+00 0.00000000e+00 4.00000000e-01\n",
      "  0.00000000e+00 0.00000000e+00 0.00000000e+00 0.00000000e+00\n",
      "  0.00000000e+00 0.00000000e+00]\n",
      " [2.50272035e-02 2.17627856e-03 3.26441785e-03 1.30576714e-02\n",
      "  4.03699674e-01 6.52883569e-03 1.08813928e-03 1.08813928e-03\n",
      "  5.15778020e-01 7.61697497e-03 3.26441785e-03 1.52339499e-02\n",
      "  1.08813928e-03 1.08813928e-03]\n",
      " [0.00000000e+00 0.00000000e+00 0.00000000e+00 1.42857143e-02\n",
      "  1.00000000e-01 1.42857143e-02 0.00000000e+00 0.00000000e+00\n",
      "  1.42857143e-02 8.57142857e-01 0.00000000e+00 0.00000000e+00\n",
      "  0.00000000e+00 0.00000000e+00]\n",
      " [2.98507463e-02 5.97014925e-02 0.00000000e+00 0.00000000e+00\n",
      "  7.46268657e-02 1.79104478e-01 0.00000000e+00 0.00000000e+00\n",
      "  2.98507463e-02 0.00000000e+00 6.11940299e-01 0.00000000e+00\n",
      "  1.49253731e-02 0.00000000e+00]\n",
      " [1.03092784e-01 6.18556701e-02 0.00000000e+00 0.00000000e+00\n",
      "  4.12371134e-01 1.75257732e-01 2.06185567e-02 0.00000000e+00\n",
      "  7.21649485e-02 1.03092784e-02 1.03092784e-02 1.13402062e-01\n",
      "  0.00000000e+00 2.06185567e-02]\n",
      " [0.00000000e+00 2.00000000e-01 0.00000000e+00 0.00000000e+00\n",
      "  1.53846154e-02 1.53846154e-02 0.00000000e+00 0.00000000e+00\n",
      "  0.00000000e+00 0.00000000e+00 0.00000000e+00 1.53846154e-02\n",
      "  7.38461538e-01 1.53846154e-02]\n",
      " [4.08163265e-03 8.97959184e-02 0.00000000e+00 0.00000000e+00\n",
      "  1.02040816e-02 0.00000000e+00 2.04081633e-03 0.00000000e+00\n",
      "  0.00000000e+00 0.00000000e+00 0.00000000e+00 6.12244898e-03\n",
      "  0.00000000e+00 8.87755102e-01]]\n"
     ]
    }
   ],
   "source": [
    "print(confusion)"
   ]
  },
  {
   "cell_type": "code",
   "execution_count": 13,
   "metadata": {},
   "outputs": [
    {
     "data": {
      "image/png": "[encoded data removed]",
      "text/plain": [
       "<matplotlib.figure.Figure at 0x105eb9250>"
      ]
     },
     "metadata": {},
     "output_type": "display_data"
    }
   ],
   "source": [
    "import matplotlib.pyplot as plt\n",
    "import matplotlib.ticker as ticker\n",
    "\n",
    "# Set up plot\n",
    "fig = plt.figure()\n",
    "ax = fig.add_subplot(111)\n",
    "cax = ax.matshow(confusion)\n",
    "fig.colorbar(cax)\n",
    "\n",
    "# Set up axes\n",
    "ax.set_xticklabels([''] + list(Rows_by_label_dict.keys()), rotation=90)\n",
    "ax.set_yticklabels([''] + list(Rows_by_label_dict.keys()))\n",
    "\n",
    "# Force label at every tick\n",
    "ax.xaxis.set_major_locator(ticker.MultipleLocator(1))\n",
    "ax.yaxis.set_major_locator(ticker.MultipleLocator(1))\n",
    "# sphinx_gallery_thumbnail_number = 2\n",
    "plt.show()"
   ]
  },
  {
   "cell_type": "code",
   "execution_count": 14,
   "metadata": {},
   "outputs": [],
   "source": [
    "# import dill                            #pip install dill --user\n",
    "# filename = 'globalsave(order='+str(order)+', k='+str(k)+').pkl'\n",
    "# dill.dump_session(filename)\n",
    "\n",
    "# # and to load the session again:\n",
    "# dill.load_session(filename)\n",
    "\n",
    "fig.savefig('confusion.png')"
   ]
  },
  {
   "cell_type": "code",
   "execution_count": null,
   "metadata": {},
   "outputs": [],
   "source": [
    "import pickle\n",
    "fname = \"lms_dict\"\n",
    "with open(fname + '.pkl', 'wb') as f:\n",
    "        pickle.dump(lms_dict, f, pickle.HIGHEST_PROTOCOL)"
   ]
  },
  {
   "cell_type": "code",
   "execution_count": null,
   "metadata": {},
   "outputs": [],
   "source": []
  }
 ],
 "metadata": {
  "kernelspec": {
   "display_name": "Python 2",
   "language": "python",
   "name": "python2"
  },
  "language_info": {
   "codemirror_mode": {
    "name": "ipython",
    "version": 2
   },
   "file_extension": ".py",
   "mimetype": "text/x-python",
   "name": "python",
   "nbconvert_exporter": "python",
   "pygments_lexer": "ipython2",
   "version": "2.7.13"
  }
 },
 "nbformat": 4,
 "nbformat_minor": 2
}
